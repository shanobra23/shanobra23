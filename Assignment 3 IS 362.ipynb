{
 "cells": [
  {
   "cell_type": "markdown",
   "metadata": {},
   "source": [
    "#  IS 362 Assignment 3 "
   ]
  },
  {
   "cell_type": "markdown",
   "metadata": {},
   "source": [
    "Objective:\n",
    "\n",
    "Suppose you have ridden a bicycle from New York City to Key West, Florida.  Your bicycle odometer shows the total miles, which you have dutifully logged at the end of each day with paper and pencil.  Your first two entries might be 55 and 120, indicating that you rode your bike 55 miles on day 1 and 65 miles on day 2. <br>\n",
    "Your task is to create a pandas Series object that holds the cumulative miles at the end of each day, then use your Python skills to show the total miles that you rode each day.  Consider how you should best present this information in a Jupyter notebook.  You should save your Jupyter Notebook to your GitHub repository, and provide a link in your assignment submission."
   ]
  },
  {
   "cell_type": "markdown",
   "metadata": {},
   "source": [
    "## Total miles from One Trade Center to Key West Florida. 1520 miles\n",
    "\n"
   ]
  },
  {
   "cell_type": "markdown",
   "metadata": {},
   "source": [
    "#### Your first two entries might be 55 and 120, indicating that you rode your bike 55 miles on day 1 and 65 miles on day 2."
   ]
  },
  {
   "cell_type": "code",
   "execution_count": 1,
   "metadata": {
    "scrolled": true
   },
   "outputs": [
    {
     "name": "stdout",
     "output_type": "stream",
     "text": [
      "Remaining days after first day 23\n",
      "Remaing days it will take from New York City to Key West Florida 24\n"
     ]
    }
   ],
   "source": [
    "days = round ((1520 - 55)/65)\n",
    "print (\"Remaining days after first day\", days)\n",
    "\n",
    "print (\"Remaing days it will take from New York City to Key West Florida\", (days+1))"
   ]
  },
  {
   "cell_type": "code",
   "execution_count": 2,
   "metadata": {},
   "outputs": [
    {
     "name": "stdout",
     "output_type": "stream",
     "text": [
      "1 = 55\n",
      "2 = 120\n",
      "3 = 185\n",
      "4 = 250\n",
      "5 = 315\n",
      "6 = 380\n",
      "7 = 445\n",
      "8 = 510\n",
      "9 = 575\n",
      "10 = 640\n",
      "11 = 705\n",
      "12 = 770\n",
      "13 = 835\n",
      "14 = 900\n",
      "15 = 965\n",
      "16 = 1030\n",
      "17 = 1095\n",
      "18 = 1160\n",
      "19 = 1225\n",
      "20 = 1290\n",
      "21 = 1355\n",
      "22 = 1420\n",
      "23 = 1485\n",
      "24 = 1520\n"
     ]
    }
   ],
   "source": [
    "import pandas as pd\n",
    "import numpy as np\n",
    "\n",
    "odometer = {}\n",
    "odometer[1] = 55\n",
    "odometer[2] = 120\n",
    "odometer[3] = 185\n",
    "odometer[4] = 250\n",
    "odometer[5] = 315\n",
    "odometer[6] = 380\n",
    "odometer[7] = 445\n",
    "odometer[8] = 510\n",
    "odometer[9] = 575\n",
    "odometer[10] = 640\n",
    "odometer[11] = 705\n",
    "odometer[12] = 770\n",
    "odometer[13] = 835\n",
    "odometer[14] = 900\n",
    "odometer[15] = 965\n",
    "odometer[16] = 1030\n",
    "odometer[17] = 1095\n",
    "odometer[18] = 1160\n",
    "odometer[19] = 1225\n",
    "odometer[20] = 1290\n",
    "odometer[21] = 1355\n",
    "odometer[22] = 1420\n",
    "odometer[23] = 1485\n",
    "odometer[24] = 1520\n",
    "for key, val in odometer.items():\n",
    "    print (key, \"=\", val)\n",
    "\n"
   ]
  },
  {
   "cell_type": "markdown",
   "metadata": {},
   "source": [
    "## Creating a Series in Panda"
   ]
  },
  {
   "cell_type": "code",
   "execution_count": 3,
   "metadata": {
    "scrolled": false
   },
   "outputs": [
    {
     "name": "stdout",
     "output_type": "stream",
     "text": [
      "<class 'dict'>\n"
     ]
    },
    {
     "data": {
      "text/plain": [
       "{1: 55,\n",
       " 2: 120,\n",
       " 3: 185,\n",
       " 4: 250,\n",
       " 5: 315,\n",
       " 6: 380,\n",
       " 7: 445,\n",
       " 8: 510,\n",
       " 9: 575,\n",
       " 10: 640,\n",
       " 11: 705,\n",
       " 12: 770,\n",
       " 13: 835,\n",
       " 14: 900,\n",
       " 15: 965,\n",
       " 16: 1030,\n",
       " 17: 1095,\n",
       " 18: 1160,\n",
       " 19: 1225,\n",
       " 20: 1290,\n",
       " 21: 1355,\n",
       " 22: 1420,\n",
       " 23: 1485,\n",
       " 24: 1520}"
      ]
     },
     "execution_count": 3,
     "metadata": {},
     "output_type": "execute_result"
    }
   ],
   "source": [
    "odomter = pd.Series(odometer)\n",
    "print (type(odometer))\n",
    "odometer"
   ]
  },
  {
   "cell_type": "markdown",
   "metadata": {},
   "source": [
    "## Displaying daily miles"
   ]
  },
  {
   "cell_type": "code",
   "execution_count": 5,
   "metadata": {
    "scrolled": true
   },
   "outputs": [
    {
     "name": "stdout",
     "output_type": "stream",
     "text": [
      "Day1 = 55 miles\n",
      "Day2 = 65 miles\n",
      "Day3 = 65 miles\n",
      "Day4 = 65 miles\n",
      "Day5 = 65 miles\n",
      "Day6 = 65 miles\n",
      "Day7 = 65 miles\n",
      "Day8 = 65 miles\n",
      "Day9 = 65 miles\n",
      "Day10 = 65 miles\n",
      "Day11 = 65 miles\n",
      "Day12 = 65 miles\n",
      "Day13 = 65 miles\n",
      "Day14 = 65 miles\n",
      "Day15 = 65 miles\n",
      "Day16 = 65 miles\n",
      "Day17 = 65 miles\n",
      "Day18 = 65 miles\n",
      "Day19 = 65 miles\n",
      "Day20 = 65 miles\n",
      "Day21 = 65 miles\n",
      "Day22 = 65 miles\n",
      "Day23 = 65 miles\n",
      "Day24 = 35 miles\n"
     ]
    }
   ],
   "source": [
    "miles_eachday = {}\n",
    "miles_yesterday = 0\n",
    "\n",
    "for day, odometermiles in odometer.items():\n",
    "    current_miles = odometermiles - miles_yesterday\n",
    "    miles_eachday[day] = current_miles\n",
    "    print('Day' + str(day) + ' = ' + str(current_miles) + ' miles')\n",
    "    miles_yesterday = odometermiles"
   ]
  },
  {
   "cell_type": "markdown",
   "metadata": {},
   "source": [
    "#### In Conclusion from days 2 to day 23 is 65 miles by bike and on the last day Day 24 is only 35 miles left which is a total of 1520 miles"
   ]
  },
  {
   "cell_type": "code",
   "execution_count": null,
   "metadata": {},
   "outputs": [],
   "source": []
  }
 ],
 "metadata": {
  "kernelspec": {
   "display_name": "Python 3",
   "language": "python",
   "name": "python3"
  },
  "language_info": {
   "codemirror_mode": {
    "name": "ipython",
    "version": 3
   },
   "file_extension": ".py",
   "mimetype": "text/x-python",
   "name": "python",
   "nbconvert_exporter": "python",
   "pygments_lexer": "ipython3",
   "version": "3.6.7"
  }
 },
 "nbformat": 4,
 "nbformat_minor": 4
}
