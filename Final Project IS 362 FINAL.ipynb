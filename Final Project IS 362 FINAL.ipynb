{
 "cells": [
  {
   "cell_type": "markdown",
   "metadata": {},
   "source": [
    "# <center> Jeodyshan Obra </center>"
   ]
  },
  {
   "cell_type": "markdown",
   "metadata": {},
   "source": [
    "# <center> IS 362 Final Project </center>"
   ]
  },
  {
   "cell_type": "markdown",
   "metadata": {},
   "source": [
    "## For this Project we will be using data from NYC Open Data on Motor Vehcile Collisions\n",
    "### https://data.cityofnewyork.us/Public-Safety/Motor-Vehicle-Collisions-Crashes/h9gi-nx95\n",
    "### WIth this data we will compare what was the average motor collisions last year compared to the Months when New York State was on PAUSE due to COVID-19"
   ]
  },
  {
   "cell_type": "markdown",
   "metadata": {},
   "source": [
    "### First we need to install sodapy since the data API requires Socrata"
   ]
  },
  {
   "cell_type": "code",
   "execution_count": 25,
   "metadata": {},
   "outputs": [
    {
     "name": "stdout",
     "output_type": "stream",
     "text": [
      "Requirement already satisfied: sodapy in /srv/conda/envs/notebook/lib/python3.6/site-packages (2.1.0)\n",
      "Requirement already satisfied: requests>=2.20.0 in /srv/conda/envs/notebook/lib/python3.6/site-packages (from sodapy) (2.22.0)\n",
      "Requirement already satisfied: urllib3!=1.25.0,!=1.25.1,<1.26,>=1.21.1 in /srv/conda/envs/notebook/lib/python3.6/site-packages (from requests>=2.20.0->sodapy) (1.25.7)\n",
      "Requirement already satisfied: chardet<3.1.0,>=3.0.2 in /srv/conda/envs/notebook/lib/python3.6/site-packages (from requests>=2.20.0->sodapy) (3.0.4)\n",
      "Requirement already satisfied: idna<2.9,>=2.5 in /srv/conda/envs/notebook/lib/python3.6/site-packages (from requests>=2.20.0->sodapy) (2.8)\n",
      "Requirement already satisfied: certifi>=2017.4.17 in /srv/conda/envs/notebook/lib/python3.6/site-packages (from requests>=2.20.0->sodapy) (2020.4.5.1)\n",
      "Note: you may need to restart the kernel to use updated packages.\n"
     ]
    }
   ],
   "source": [
    "pip install sodapy"
   ]
  },
  {
   "cell_type": "code",
   "execution_count": 26,
   "metadata": {},
   "outputs": [],
   "source": [
    "from sodapy import Socrata\n",
    "from datetime import datetime as dt\n",
    "import pandas as pd\n",
    "import numpy as np\n",
    "import matplotlib.pyplot as plt\n",
    "%matplotlib inline"
   ]
  },
  {
   "cell_type": "markdown",
   "metadata": {},
   "source": [
    "### Here we are calling the API by using my API key and the API ID called 'ep'"
   ]
  },
  {
   "cell_type": "code",
   "execution_count": 27,
   "metadata": {},
   "outputs": [],
   "source": [
    "r = Socrata(\"data.cityofnewyork.us\", \"wrD99LiVByocMft0MyxI4yknc\") #app_token\n",
    "ep = \"h9gi-nx95\" #API Endpoint\n",
    "data = [] #raw data array\n",
    "daily = dict() #daily count array"
   ]
  },
  {
   "cell_type": "markdown",
   "metadata": {},
   "source": [
    "### Next we will be downloading the files using Socrata to find the following dates:\n",
    "#### March 2019\n",
    "#### April 2019\n",
    "#### March 2020\n",
    "#### April 2020"
   ]
  },
  {
   "cell_type": "markdown",
   "metadata": {},
   "source": [
    "### Now we need to call the API for March 2019 by using a for loop and transforming the date into a date object"
   ]
  },
  {
   "cell_type": "code",
   "execution_count": 28,
   "metadata": {},
   "outputs": [],
   "source": [
    "\n",
    "for i in range(1,32): #March 2019\n",
    "    date = \"2019-03-\" + str(i)\n",
    "    req = r.get(ep,crash_date = date)\n",
    "    data.extend(req)\n",
    "\n",
    "    date = dt.strptime(date, \"%Y-%m-%d\").date() #Convert date from string to date object\n",
    "    daily[date] = len(req) "
   ]
  },
  {
   "cell_type": "markdown",
   "metadata": {},
   "source": [
    "### Next we will call for April 2019"
   ]
  },
  {
   "cell_type": "code",
   "execution_count": 34,
   "metadata": {},
   "outputs": [],
   "source": [
    "for i in range(1,31): #April 2019\n",
    "    date = \"2019-04-\" + str(i)\n",
    "    req = r.get(ep,crash_date = date)\n",
    "    data.extend(req)\n",
    "\n",
    "    date = dt.strptime(date, \"%Y-%m-%d\").date()\n",
    "    daily[date] = len(req)"
   ]
  },
  {
   "cell_type": "markdown",
   "metadata": {},
   "source": [
    "### Now we will call for March 2020 "
   ]
  },
  {
   "cell_type": "code",
   "execution_count": 35,
   "metadata": {},
   "outputs": [],
   "source": [
    "for i in range(1,32): #March 2020\n",
    "    date = \"2020-03-\" + str(i)\n",
    "    req = r.get(ep, crash_date = date)\n",
    "    data.extend(req)\n",
    "    \n",
    "    date = dt.strptime(date, \"%Y-%m-%d\").date()\n",
    "    daily[date] = len(req)"
   ]
  },
  {
   "cell_type": "markdown",
   "metadata": {},
   "source": [
    "### Calling April 2020"
   ]
  },
  {
   "cell_type": "code",
   "execution_count": 36,
   "metadata": {},
   "outputs": [],
   "source": [
    "for i in range(1,31): #April 2020\n",
    "    date = \"2020-04-\" + str(i)\n",
    "    req = r.get(ep, crash_date = date)\n",
    "    data.extend(req)\n",
    "        \n",
    "    date = dt.strptime(date, \"%Y-%m-%d\").date()\n",
    "    daily[date] = len(req)\n",
    "\n",
    "r.close()"
   ]
  },
  {
   "cell_type": "markdown",
   "metadata": {},
   "source": [
    "### Now that we have the dates now we need to group and find the average of the Collisions weekly for March & April"
   ]
  },
  {
   "cell_type": "code",
   "execution_count": 37,
   "metadata": {},
   "outputs": [],
   "source": [
    "weekly = dict()\n",
    "\n",
    "for i in daily.keys():\n",
    "    week = str(i.year) + \" \" + str(i.strftime(\"%W\"))\n",
    "    if week in weekly.keys():\n",
    "        weekly[week] = weekly[week] + (daily[i] / float(7))\n",
    "    else:\n",
    "        weekly[week] = daily[i] / float(7)"
   ]
  },
  {
   "cell_type": "markdown",
   "metadata": {},
   "source": [
    "### Now we could create an array and print the average weekly collisions for March & April"
   ]
  },
  {
   "cell_type": "code",
   "execution_count": 38,
   "metadata": {},
   "outputs": [
    {
     "name": "stdout",
     "output_type": "stream",
     "text": [
      "\n",
      "Year Week #\tAverage\n",
      "2019 09\t\t560.57\n",
      "2019 10\t\t578.0\n",
      "2019 11\t\t580.43\n",
      "2019 12\t\t553.0\n",
      "2019 13\t\t600.43\n",
      "2019 14\t\t577.86\n",
      "2019 15\t\t551.43\n",
      "2019 16\t\t509.71\n",
      "\n",
      "Year Week #\tAverage\n",
      "2020 09\t\t538.0\n",
      "2020 10\t\t452.29\n",
      "2020 11\t\t293.86\n",
      "2020 12\t\t185.57\n",
      "2020 13\t\t153.14\n",
      "2020 14\t\t117.29\n",
      "2020 15\t\t132.14\n",
      "2020 16\t\t138.0\n"
     ]
    }
   ],
   "source": [
    "before = []\n",
    "bdate = []\n",
    "after = []\n",
    "adate = []\n",
    "for i in sorted(weekly.keys()):\n",
    "    if \"2019\" in i:\n",
    "        bdate.append(str(i))\n",
    "        before.append(float(round(weekly[i],2)))\n",
    "    elif \"2020\" in i:\n",
    "        adate.append(str(i))\n",
    "        after.append(float(round(weekly[i],2)))\n",
    "\n",
    "before = before[1:-1]   #since its a list list[begin:end]\n",
    "bdate = bdate[1:-1]\n",
    "after = after[1:-1]\n",
    "adate = adate[1:-1]\n",
    "\n",
    "#Grouping \n",
    "print(\"\\nYear Week #\\tAverage\")\n",
    "for i in range(len(before)):\n",
    "    print (bdate[i] + \"\\t\\t\" + str(before[i]))\n",
    "print(\"\\nYear Week #\\tAverage\")\n",
    "for i in range(len(after)):\n",
    "    print (adate[i] + \"\\t\\t\" + str(after[i]))\n"
   ]
  },
  {
   "cell_type": "markdown",
   "metadata": {},
   "source": [
    "### Now we need to plot a line graph on our results. Here is the results of the Average Weekly Collision of March & Apil 2019"
   ]
  },
  {
   "cell_type": "code",
   "execution_count": 31,
   "metadata": {},
   "outputs": [
    {
     "data": {
      "image/png": "[encoded data removed]",
      "text/plain": [
       "<Figure size 432x288 with 1 Axes>"
      ]
     },
     "metadata": {
      "needs_background": "light"
     },
     "output_type": "display_data"
    }
   ],
   "source": [
    "week = range(1,len(before)+1)\n",
    "plt.title('March & April 2019 Average Weekly Collision')\n",
    "plt.xlabel('Week')\n",
    "plt.ylabel('Average Collisions')\n",
    "plt.plot(week, before, 'r-o')\n",
    "plt.show()"
   ]
  },
  {
   "cell_type": "markdown",
   "metadata": {},
   "source": [
    "### Here is the results of the Average Weekly Collisions from March & April 2020"
   ]
  },
  {
   "cell_type": "code",
   "execution_count": 32,
   "metadata": {},
   "outputs": [
    {
     "data": {
      "image/png": "[encoded data removed]",
      "text/plain": [
       "<Figure size 432x288 with 1 Axes>"
      ]
     },
     "metadata": {
      "needs_background": "light"
     },
     "output_type": "display_data"
    }
   ],
   "source": [
    "week = range(1,len(after)+1)\n",
    "plt.title('March & April 2020 Average Weekly Collision')\n",
    "plt.xlabel('Week')\n",
    "plt.ylabel('Average Collisions')\n",
    "plt.plot(week, after, 'b-o')\n",
    "plt.show()"
   ]
  },
  {
   "cell_type": "markdown",
   "metadata": {},
   "source": [
    "### Now lets combine both the 2019 & 2020 Data."
   ]
  },
  {
   "cell_type": "code",
   "execution_count": 33,
   "metadata": {},
   "outputs": [
    {
     "data": {
      "image/png": "[encoded data removed]",
      "text/plain": [
       "<Figure size 432x288 with 1 Axes>"
      ]
     },
     "metadata": {
      "needs_background": "light"
     },
     "output_type": "display_data"
    }
   ],
   "source": [
    "week = range(1,len(after)+1)\n",
    "plt.title('Combined Average Weekly Collisions')\n",
    "plt.xlabel('Week')\n",
    "plt.ylabel('Average Collisions')\n",
    "plt.plot(week, after, 'b-o')\n",
    "plt.plot(week,before, 'r-o')\n",
    "plt.show()"
   ]
  },
  {
   "cell_type": "markdown",
   "metadata": {},
   "source": [
    "### Based on the the visualitzation. From the two Line graphs we could clearly see that March & April 2019 (Red) was pretty stable from Weeks 1 to 8. Now look from March & April 2020 you can clearly see a big dip in Average Collisions Weekly since New York State started lockdown in March 2020. With this data we can confirm that comparing the 2019 and 2020 COVID-19 did play a role into reducing the number of Collisions. "
   ]
  },
  {
   "cell_type": "markdown",
   "metadata": {},
   "source": [
    "### In this project one thing that I added that we did not add on is using Socrata and sodapy. Since it is required to access the API. Another thing we did not learn is importing datetime for the API for Crash date"
   ]
  },
  {
   "cell_type": "code",
   "execution_count": null,
   "metadata": {},
   "outputs": [],
   "source": []
  }
 ],
 "metadata": {
  "kernelspec": {
   "display_name": "Python 3",
   "language": "python",
   "name": "python3"
  },
  "language_info": {
   "codemirror_mode": {
    "name": "ipython",
    "version": 3
   },
   "file_extension": ".py",
   "mimetype": "text/x-python",
   "name": "python",
   "nbconvert_exporter": "python",
   "pygments_lexer": "ipython3",
   "version": "3.6.10"
  }
 },
 "nbformat": 4,
 "nbformat_minor": 4
}
