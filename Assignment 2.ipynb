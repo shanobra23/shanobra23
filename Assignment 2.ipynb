{
 "cells": [
  {
   "cell_type": "markdown",
   "metadata": {},
   "source": [
    "# <center> JeodyShan Obra </center>"
   ]
  },
  {
   "cell_type": "markdown",
   "metadata": {},
   "source": [
    "# <center> IS 362 Assignment 2 </center>"
   ]
  },
  {
   "cell_type": "markdown",
   "metadata": {},
   "source": [
    "# <center> This Notebook is about the zip() function </center>"
   ]
  },
  {
   "cell_type": "markdown",
   "metadata": {},
   "source": [
    "### This explains what is a zip function <br>\n",
    "\n",
    "* The zip() function returns an iterator of tuples based on objects\n",
    "* If there isnt any parameter, zip() returns an empty iterator \n",
    "* If a single iterable is passed, zip() returns an iterator of tuples having only one element.\n",
    "* Source: [Python Zip Function](https://www.programiz.com/python-programming/methods/built-in/zip)"
   ]
  }
 ],
 "metadata": {
  "kernelspec": {
   "display_name": "Python 3",
   "language": "python",
   "name": "python3"
  },
  "language_info": {
   "codemirror_mode": {
    "name": "ipython",
    "version": 3
   },
   "file_extension": ".py",
   "mimetype": "text/x-python",
   "name": "python",
   "nbconvert_exporter": "python",
   "pygments_lexer": "ipython3",
   "version": "3.6.7"
  }
 },
 "nbformat": 4,
 "nbformat_minor": 4
}
